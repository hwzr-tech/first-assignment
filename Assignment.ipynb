{
 "cells": [
  {
   "cell_type": "markdown",
   "metadata": {},
   "source": [
    "# Assignment No 1\n",
    "\n",
    "# User Input"
   ]
  },
  {
   "cell_type": "code",
   "execution_count": 32,
   "metadata": {
    "scrolled": true
   },
   "outputs": [
    {
     "name": "stdout",
     "output_type": "stream",
     "text": [
      "Enter your Nameali\n",
      "Enter your father nameahmed\n",
      "phy no50\n",
      "che no68\n",
      "math no47\n",
      "eng no58\n",
      "urdu no20\n",
      "\n",
      "PIAIC ISLAMABAD BATCH3\n",
      "name: ali\n",
      "father name: ahmed\n",
      "phy:50\n",
      "che:68\n",
      "math:47\n",
      "eng:58\n",
      "urdu:20\n",
      "total:243\n",
      "percentage:48.6\n",
      "\n"
     ]
    }
   ],
   "source": [
    "name = input(\"Enter your Name\")\n",
    "father_name = input(\"Enter your father name\")\n",
    "phy = int (input(\"phy no\"))\n",
    "che = int (input(\"che no\"))\n",
    "math = int (input(\"math no\"))\n",
    "eng = int (input(\"eng no\"))\n",
    "urdu = int (input(\"urdu no\"))\n",
    "total = (phy+che+math+eng+urdu)\n",
    "per = (total/500*100)\n",
    "\n",
    "message = \"\"\"\n",
    "PIAIC ISLAMABAD BATCH3\n",
    "name: {}\n",
    "father name: {}\n",
    "phy:{}\n",
    "che:{}\n",
    "math:{}\n",
    "eng:{}\n",
    "urdu:{}\n",
    "total:{}\n",
    "percentage:{}\n",
    "\"\"\"\n",
    "\n",
    "message = message.format(name, father_name, phy, che, math, eng, urdu,total,per)\n",
    "\n",
    "print(message)"
   ]
  },
  {
   "cell_type": "markdown",
   "metadata": {},
   "source": [
    "# 5 Built-in Functions"
   ]
  },
  {
   "cell_type": "code",
   "execution_count": 41,
   "metadata": {
    "scrolled": true
   },
   "outputs": [
    {
     "name": "stdout",
     "output_type": "stream",
     "text": [
      "0b1000\n"
     ]
    }
   ],
   "source": [
    "#binary function\n",
    "x = bin(8)\n",
    "print(x)"
   ]
  },
  {
   "cell_type": "code",
   "execution_count": 46,
   "metadata": {},
   "outputs": [
    {
     "name": "stdout",
     "output_type": "stream",
     "text": [
      "True\n"
     ]
    }
   ],
   "source": [
    "#bool converts a value to Boolean\n",
    "a = bool(5)\n",
    "print(a)"
   ]
  },
  {
   "cell_type": "code",
   "execution_count": 47,
   "metadata": {},
   "outputs": [
    {
     "name": "stdout",
     "output_type": "stream",
     "text": [
      "98\n"
     ]
    }
   ],
   "source": [
    "#return postive value\n",
    "p = abs(-98)\n",
    "print (p)"
   ]
  },
  {
   "cell_type": "code",
   "execution_count": 49,
   "metadata": {
    "scrolled": true
   },
   "outputs": [
    {
     "name": "stdout",
     "output_type": "stream",
     "text": [
      "pakistan\n"
     ]
    }
   ],
   "source": [
    "#str takes an argument and returns the string equivalent of it.\n",
    "s = str('pakistan')\n",
    "print(s)"
   ]
  },
  {
   "cell_type": "code",
   "execution_count": 62,
   "metadata": {},
   "outputs": [
    {
     "data": {
      "text/plain": [
       "81"
      ]
     },
     "execution_count": 62,
     "metadata": {},
     "output_type": "execute_result"
    }
   ],
   "source": [
    "#min returns the lowest value in a sequence.\n",
    "pow(3,4)"
   ]
  },
  {
   "cell_type": "markdown",
   "metadata": {},
   "source": [
    "# Assignment 2\n",
    "\n",
    "# 20 oprand with different oprators"
   ]
  },
  {
   "cell_type": "code",
   "execution_count": 1,
   "metadata": {},
   "outputs": [
    {
     "data": {
      "text/plain": [
       "87.0"
      ]
     },
     "execution_count": 1,
     "metadata": {},
     "output_type": "execute_result"
    }
   ],
   "source": [
    "2-4+6*8+10*12+(14-1+3)+(5-7+9)+11+(13+15*17)-19*21+23-25/5\n",
    "#-4+48+120+(16)+(7)+11+(268)-399+23-5\n",
    "#46+120+16+7+11+268-399+18\n",
    "#200+268+18-399\n",
    "#486-399\n",
    "#87"
   ]
  },
  {
   "cell_type": "markdown",
   "metadata": {},
   "source": [
    "# All String data type Methods"
   ]
  },
  {
   "cell_type": "code",
   "execution_count": 1,
   "metadata": {},
   "outputs": [
    {
     "name": "stdout",
     "output_type": "stream",
     "text": [
      "Muhammad hamza\n",
      "Muhammad Hamza\n"
     ]
    }
   ],
   "source": [
    "#capitalize\n",
    "a = \"Muhammad Hamza\"\n",
    "print(a.capitalize())       \n",
    "print(a)"
   ]
  },
  {
   "cell_type": "code",
   "execution_count": 5,
   "metadata": {
    "scrolled": true
   },
   "outputs": [
    {
     "name": "stdout",
     "output_type": "stream",
     "text": [
      "Centered String:     Python is awesome    \n"
     ]
    }
   ],
   "source": [
    "#center\n",
    "d = \"Python is awesome\"\n",
    "print(\"Centered String: \", d.center(24))"
   ]
  },
  {
   "cell_type": "code",
   "execution_count": 6,
   "metadata": {},
   "outputs": [
    {
     "name": "stdout",
     "output_type": "stream",
     "text": [
      "Casefold String:  python is awesome\n"
     ]
    }
   ],
   "source": [
    "#casefold\n",
    "d = \"Python is awesome\"\n",
    "print(\"Casefold String: \", d.casefold())"
   ]
  },
  {
   "cell_type": "code",
   "execution_count": 9,
   "metadata": {},
   "outputs": [
    {
     "name": "stdout",
     "output_type": "stream",
     "text": [
      "15\n"
     ]
    }
   ],
   "source": [
    "#Count\n",
    "a = \"Muhammad Hamza\"       \n",
    "b = a.count(\"\")\n",
    "print(b)"
   ]
  },
  {
   "cell_type": "code",
   "execution_count": 29,
   "metadata": {},
   "outputs": [
    {
     "name": "stdout",
     "output_type": "stream",
     "text": [
      "False\n",
      "True\n"
     ]
    }
   ],
   "source": [
    "#Endswith\n",
    "text = \"Python is easy to learn.\"\n",
    "result = text.endswith('is easy')\n",
    "print(result)\n",
    "result = text.endswith('to learn.')\n",
    "print(result)"
   ]
  },
  {
   "cell_type": "code",
   "execution_count": 10,
   "metadata": {},
   "outputs": [
    {
     "name": "stdout",
     "output_type": "stream",
     "text": [
      "b'Hamza'\n",
      "Hamza\n"
     ]
    }
   ],
   "source": [
    "#Encode\n",
    "a = \"Hamza\"        \n",
    "print(a.encode())           \n",
    "print(a)"
   ]
  },
  {
   "cell_type": "code",
   "execution_count": 11,
   "metadata": {},
   "outputs": [
    {
     "name": "stdout",
     "output_type": "stream",
     "text": [
      "xyz     12345   abc\n"
     ]
    }
   ],
   "source": [
    "#expandtabs\n",
    "a = 'xyz\\t12345\\tabc'\n",
    "result = a.expandtabs()\n",
    "\n",
    "print(result)"
   ]
  },
  {
   "cell_type": "code",
   "execution_count": 18,
   "metadata": {},
   "outputs": [
    {
     "name": "stdout",
     "output_type": "stream",
     "text": [
      "Muhammad$Hamza\n"
     ]
    }
   ],
   "source": [
    "#end\n",
    "a = \"Hamza\"\n",
    "print(\"Muhammad\" , end = '$')         \n",
    "print(a)"
   ]
  },
  {
   "cell_type": "code",
   "execution_count": 19,
   "metadata": {},
   "outputs": [
    {
     "name": "stdout",
     "output_type": "stream",
     "text": [
      "9\n"
     ]
    }
   ],
   "source": [
    "#find\n",
    "a = \"Muhammad Hamza\"        \n",
    "b = a.find(\"Hamza\")\n",
    "print(b)"
   ]
  },
  {
   "cell_type": "code",
   "execution_count": 33,
   "metadata": {},
   "outputs": [
    {
     "name": "stdout",
     "output_type": "stream",
     "text": [
      "9\n"
     ]
    }
   ],
   "source": [
    "#Index\n",
    "a = \"Muhammad Hamza\"                  \n",
    "b = a.index(\"Hamza\")\n",
    "print(b)"
   ]
  },
  {
   "cell_type": "code",
   "execution_count": 31,
   "metadata": {},
   "outputs": [
    {
     "name": "stdout",
     "output_type": "stream",
     "text": [
      "For only 80.00 dollars!\n"
     ]
    }
   ],
   "source": [
    "#formate\n",
    "a = \"For only {price:.2f} dollars!\"    \n",
    "print(a.format(price = 80))"
   ]
  },
  {
   "cell_type": "code",
   "execution_count": 48,
   "metadata": {},
   "outputs": [
    {
     "name": "stdout",
     "output_type": "stream",
     "text": [
      "True\n",
      "False\n",
      "True\n"
     ]
    }
   ],
   "source": [
    "#isalnum\n",
    "name = \"ali\"\n",
    "print(name.isalnum())\n",
    "\n",
    "name = \"al i \"\n",
    "print(name.isalnum())\n",
    "\n",
    "name = \"ali\"\n",
    "print(name.isalnum())"
   ]
  },
  {
   "cell_type": "code",
   "execution_count": 35,
   "metadata": {},
   "outputs": [
    {
     "name": "stdout",
     "output_type": "stream",
     "text": [
      "False\n",
      "Muhammad Hamza\n"
     ]
    }
   ],
   "source": [
    "#Isalpha\n",
    "a = \"Muhammad Hamza\"                  \n",
    "print(a.isalpha())\n",
    "print(a)"
   ]
  },
  {
   "cell_type": "code",
   "execution_count": 36,
   "metadata": {},
   "outputs": [
    {
     "name": "stdout",
     "output_type": "stream",
     "text": [
      "True\n",
      "Muhammad Hamza\n"
     ]
    }
   ],
   "source": [
    "#Isascii\n",
    "a = \"Muhammad Hamza\"                 \n",
    "print(a.isascii())\n",
    "print(a)"
   ]
  },
  {
   "cell_type": "code",
   "execution_count": 37,
   "metadata": {},
   "outputs": [
    {
     "name": "stdout",
     "output_type": "stream",
     "text": [
      "False\n",
      "Muhammad Hamza\n"
     ]
    }
   ],
   "source": [
    "#Isdecimal\n",
    "a = \"Muhammad Hamza\"                 \n",
    "print(a.isdecimal())\n",
    "print(a)"
   ]
  },
  {
   "cell_type": "code",
   "execution_count": 38,
   "metadata": {},
   "outputs": [
    {
     "name": "stdout",
     "output_type": "stream",
     "text": [
      "True\n",
      "6008666\n"
     ]
    }
   ],
   "source": [
    "#Isdigit\n",
    "a = \"6008666\"                     \n",
    "print(a.isdigit())\n",
    "print(a)"
   ]
  },
  {
   "cell_type": "code",
   "execution_count": 39,
   "metadata": {},
   "outputs": [
    {
     "name": "stdout",
     "output_type": "stream",
     "text": [
      "False\n",
      "Muhammad Hamza\n"
     ]
    }
   ],
   "source": [
    "#Isidentifier\n",
    "a = \"Muhammad Hamza\"             \n",
    "print(a.isidentifier())\n",
    "print(a)"
   ]
  },
  {
   "cell_type": "code",
   "execution_count": 40,
   "metadata": {},
   "outputs": [
    {
     "name": "stdout",
     "output_type": "stream",
     "text": [
      "False\n",
      "Muhammad Hamza\n"
     ]
    }
   ],
   "source": [
    "#Isprintable\n",
    "a = \"Muhammad Hamza\"             \n",
    "print(a.islower())\n",
    "print(a)"
   ]
  },
  {
   "cell_type": "code",
   "execution_count": 41,
   "metadata": {},
   "outputs": [
    {
     "name": "stdout",
     "output_type": "stream",
     "text": [
      "True\n",
      "     \n"
     ]
    }
   ],
   "source": [
    "#Isspace\n",
    "a = \"     \"                 \n",
    "print(a.isspace())\n",
    "print(a)"
   ]
  },
  {
   "cell_type": "code",
   "execution_count": 42,
   "metadata": {},
   "outputs": [
    {
     "name": "stdout",
     "output_type": "stream",
     "text": [
      "True\n",
      "MUHAMMAD HAMZA\n"
     ]
    }
   ],
   "source": [
    "#Issuper\n",
    "a = \"MUHAMMAD HAMZA\"        \n",
    "print(a.isupper())\n",
    "print(a)"
   ]
  },
  {
   "cell_type": "code",
   "execution_count": 49,
   "metadata": {},
   "outputs": [
    {
     "name": "stdout",
     "output_type": "stream",
     "text": [
      "slice(None, 3, None)\n",
      "slice(1, 5, 2)\n"
     ]
    }
   ],
   "source": [
    "#slice\n",
    "print(slice(3))\n",
    "print(slice(1, 5, 2))"
   ]
  },
  {
   "cell_type": "code",
   "execution_count": 44,
   "metadata": {},
   "outputs": [
    {
     "name": "stdout",
     "output_type": "stream",
     "text": [
      "Ilovepython\n"
     ]
    }
   ],
   "source": [
    "#Join\n",
    "a =(\"I\", \"love\", \"python\")          \n",
    "b = \"\".join(a)\n",
    "print(b)"
   ]
  },
  {
   "cell_type": "code",
   "execution_count": 50,
   "metadata": {},
   "outputs": [
    {
     "name": "stdout",
     "output_type": "stream",
     "text": [
      "Maximum is: 5\n",
      "Maximum is: 10\n"
     ]
    }
   ],
   "source": [
    "#maximum\n",
    "print('Maximum is:', max(1, 3, 2, 5, 4))\n",
    "num = [1, 3, 2, 8, 5, 10, 6]\n",
    "print('Maximum is:', max(num))"
   ]
  },
  {
   "cell_type": "code",
   "execution_count": 46,
   "metadata": {},
   "outputs": [
    {
     "name": "stdout",
     "output_type": "stream",
     "text": [
      "Muhammad Hamza is my name\n"
     ]
    }
   ],
   "source": [
    " #Ljust\n",
    "a = \"Muhammad Hamza\"                   \n",
    "b = a.ljust(5)\n",
    "print(a , \"is my name\")"
   ]
  },
  {
   "cell_type": "code",
   "execution_count": 47,
   "metadata": {},
   "outputs": [
    {
     "name": "stdout",
     "output_type": "stream",
     "text": [
      "muhammad hamza\n",
      "Muhammad Hamza\n"
     ]
    }
   ],
   "source": [
    "#lower\n",
    "a = \"Muhammad Hamza\"                   \n",
    "print(a.lower())\n",
    "print(a)"
   ]
  },
  {
   "cell_type": "code",
   "execution_count": 48,
   "metadata": {},
   "outputs": [
    {
     "name": "stdout",
     "output_type": "stream",
     "text": [
      "i love Pakistan\n"
     ]
    }
   ],
   "source": [
    "#lstrip\n",
    "a = \"love\"                           \n",
    "b = a.lstrip()\n",
    "print(\"i\" , a , \"Pakistan\")"
   ]
  },
  {
   "cell_type": "code",
   "execution_count": 50,
   "metadata": {},
   "outputs": [
    {
     "name": "stdout",
     "output_type": "stream",
     "text": [
      "{97: '22', 98: '36', 99: '329'}\n"
     ]
    }
   ],
   "source": [
    "#maketrans\n",
    "value = {\"a\": \"22\", \"b\": \"36\", \"c\": \"329\"}         \n",
    "string = \"abc\"\n",
    "print(string.maketrans(value))"
   ]
  },
  {
   "cell_type": "code",
   "execution_count": 51,
   "metadata": {},
   "outputs": [
    {
     "name": "stdout",
     "output_type": "stream",
     "text": [
      "int(123) is: 123\n",
      "int(123.23) is: 123\n",
      "int('123') is: 123\n"
     ]
    }
   ],
   "source": [
    "#int\n",
    "print(\"int(123) is:\", int(123))\n",
    "\n",
    "print(\"int(123.23) is:\", int(123.23))\n",
    "\n",
    "print(\"int('123') is:\", int('123'))"
   ]
  },
  {
   "cell_type": "code",
   "execution_count": 51,
   "metadata": {},
   "outputs": [
    {
     "name": "stdout",
     "output_type": "stream",
     "text": [
      "('we ', 'love', ' pakistan')\n"
     ]
    }
   ],
   "source": [
    " #partition \n",
    "a = \"we love pakistan\"                             \n",
    "b = a.partition(\"love\")\n",
    "print(b)"
   ]
  },
  {
   "cell_type": "code",
   "execution_count": 54,
   "metadata": {},
   "outputs": [
    {
     "name": "stdout",
     "output_type": "stream",
     "text": [
      "10.0\n",
      "11.22\n",
      "-13.33\n",
      "-24.45\n"
     ]
    }
   ],
   "source": [
    "#float\n",
    "print(float(10))\n",
    "print(float(11.22))\n",
    "print(float(\"-13.33\"))\n",
    "print(float(\"     -24.45\\n\"))"
   ]
  },
  {
   "cell_type": "code",
   "execution_count": 52,
   "metadata": {},
   "outputs": [
    {
     "name": "stdout",
     "output_type": "stream",
     "text": [
      "I like mangoes\n"
     ]
    }
   ],
   "source": [
    "#replace\n",
    "a = \"I like apples\"                               \n",
    "b = a.replace(\"apples\" , \"mangoes\") \n",
    "print(b)"
   ]
  },
  {
   "cell_type": "code",
   "execution_count": 34,
   "metadata": {},
   "outputs": [
    {
     "name": "stdout",
     "output_type": "stream",
     "text": [
      "a = (2+3j)\n",
      "Type of a is <class 'complex'>\n"
     ]
    }
   ],
   "source": [
    "#complex\n",
    "a = 2+3j\n",
    "print('a =',a)\n",
    "print('Type of a is',type(a))"
   ]
  },
  {
   "cell_type": "code",
   "execution_count": 54,
   "metadata": {},
   "outputs": [
    {
     "name": "stdout",
     "output_type": "stream",
     "text": [
      "12\n"
     ]
    }
   ],
   "source": [
    "#rindex\n",
    "a = \"I like , We like.\"                         \n",
    "b = a.rindex(\"like\")\n",
    "print(b)"
   ]
  },
  {
   "cell_type": "code",
   "execution_count": 55,
   "metadata": {},
   "outputs": [
    {
     "name": "stdout",
     "output_type": "stream",
     "text": [
      "               APPLE is my favourite fruit\n"
     ]
    }
   ],
   "source": [
    "#rjust\n",
    "a = \"APPLE\"                                 \n",
    "b = a.rjust(20)\n",
    "print(b , \"is my favourite fruit\")"
   ]
  },
  {
   "cell_type": "code",
   "execution_count": 56,
   "metadata": {},
   "outputs": [
    {
     "name": "stdout",
     "output_type": "stream",
     "text": [
      "['apple ', ' banana ', ' cherry']\n"
     ]
    }
   ],
   "source": [
    "#rsplit\n",
    "a = \"apple , banana , cherry\"                       \n",
    "b = a.rsplit(\",\")\n",
    "print(b)"
   ]
  },
  {
   "cell_type": "code",
   "execution_count": 58,
   "metadata": {},
   "outputs": [
    {
     "name": "stdout",
     "output_type": "stream",
     "text": [
      "of all favorite apple is my favorite\n"
     ]
    }
   ],
   "source": [
    "#rstrip  \n",
    "a = \"apple\"                                  \n",
    "b = a.rstrip()\n",
    "print(\"of all favorite\" ,b, \"is my favorite\")"
   ]
  },
  {
   "cell_type": "code",
   "execution_count": 59,
   "metadata": {},
   "outputs": [
    {
     "name": "stdout",
     "output_type": "stream",
     "text": [
      "['i', 'love', 'pakistan']\n"
     ]
    }
   ],
   "source": [
    "#split\n",
    "a = \"i love pakistan\"                      \n",
    "b = a.split()\n",
    "print(b)"
   ]
  },
  {
   "cell_type": "code",
   "execution_count": 1,
   "metadata": {},
   "outputs": [
    {
     "name": "stdout",
     "output_type": "stream",
     "text": [
      "b'Python is interesting.'\n"
     ]
    }
   ],
   "source": [
    "string = \"Python is interesting.\"\n",
    "arr = bytes(string, 'utf-8')\n",
    "print(arr)"
   ]
  },
  {
   "cell_type": "code",
   "execution_count": null,
   "metadata": {},
   "outputs": [],
   "source": [
    "#input\n",
    "nputString = input()\n",
    "print('The inputted string is:', inputString)"
   ]
  },
  {
   "cell_type": "code",
   "execution_count": 1,
   "metadata": {},
   "outputs": [
    {
     "name": "stdout",
     "output_type": "stream",
     "text": [
      "[] is False\n",
      "[0] is True\n"
     ]
    }
   ],
   "source": [
    "#bool\n",
    "test = []\n",
    "print(test,'is',bool(test))\n",
    "test = [0]\n",
    "print(test,'is',bool(test))"
   ]
  },
  {
   "cell_type": "code",
   "execution_count": 4,
   "metadata": {},
   "outputs": [
    {
     "name": "stdout",
     "output_type": "stream",
     "text": [
      "True\n",
      "False\n"
     ]
    }
   ],
   "source": [
    "l = [1, 3, 4, 5]\n",
    "print(all(l))\n",
    "l = [0, False]\n",
    "print(all(l))"
   ]
  },
  {
   "cell_type": "code",
   "execution_count": 5,
   "metadata": {},
   "outputs": [
    {
     "name": "stdout",
     "output_type": "stream",
     "text": [
      "bytearray(b'Python is interesting.')\n"
     ]
    }
   ],
   "source": [
    "string = \"Python is interesting.\"\n",
    "arr = bytearray(string, 'utf-8')\n",
    "print(arr)"
   ]
  },
  {
   "cell_type": "code",
   "execution_count": 7,
   "metadata": {},
   "outputs": [
    {
     "name": "stdout",
     "output_type": "stream",
     "text": [
      "4 -5\n"
     ]
    }
   ],
   "source": [
    "#formate_map\n",
    "point = {'x':4,'y':-5}\n",
    "print('{x} {y}'.format_map(point))"
   ]
  },
  {
   "cell_type": "code",
   "execution_count": 60,
   "metadata": {},
   "outputs": [
    {
     "name": "stdout",
     "output_type": "stream",
     "text": [
      "['i love pakistan', 'We are pakistani']\n"
     ]
    }
   ],
   "source": [
    "#splitlines\n",
    "a = \"i love pakistan\\nWe are pakistani\"          \n",
    "b = a.splitlines()\n",
    "print(b)"
   ]
  },
  {
   "cell_type": "code",
   "execution_count": 61,
   "metadata": {},
   "outputs": [
    {
     "name": "stdout",
     "output_type": "stream",
     "text": [
      "Original string: abcdef\n",
      "Translated string: idef\n"
     ]
    }
   ],
   "source": [
    " #translate\n",
    "firstString = \"abc\"                            \n",
    "secondString = \"ghi\"\n",
    "thirdString = \"ab\"\n",
    "\n",
    "string = \"abcdef\"\n",
    "print(\"Original string:\", string)\n",
    "\n",
    "translation = string.maketrans(firstString, secondString, thirdString)\n",
    "\n",
    "print(\"Translated string:\", string.translate(translation))"
   ]
  },
  {
   "cell_type": "code",
   "execution_count": 63,
   "metadata": {},
   "outputs": [
    {
     "name": "stdout",
     "output_type": "stream",
     "text": [
      "00000000000000000000000000000000000000000000000100\n"
     ]
    }
   ],
   "source": [
    " #zfill\n",
    "a = \"100\"                                   \n",
    "b = a.zfill(50)\n",
    "print(b)"
   ]
  },
  {
   "cell_type": "code",
   "execution_count": null,
   "metadata": {},
   "outputs": [],
   "source": []
  }
 ],
 "metadata": {
  "kernelspec": {
   "display_name": "Python 3",
   "language": "python",
   "name": "python3"
  },
  "language_info": {
   "codemirror_mode": {
    "name": "ipython",
    "version": 3
   },
   "file_extension": ".py",
   "mimetype": "text/x-python",
   "name": "python",
   "nbconvert_exporter": "python",
   "pygments_lexer": "ipython3",
   "version": "3.7.4"
  }
 },
 "nbformat": 4,
 "nbformat_minor": 2
}
